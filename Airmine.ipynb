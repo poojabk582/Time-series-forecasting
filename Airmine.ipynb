{
 "cells": [
  {
   "cell_type": "code",
   "execution_count": 2,
   "metadata": {},
   "outputs": [],
   "source": [
    "%matplotlib inline\n",
    "\n",
    "import pandas as pd\n",
    "import argparse\n",
    "import numpy as np\n",
    "from math import radians, degrees, sin, cos, asin, acos, sqrt\n",
    "from itertools import combinations"
   ]
  },
  {
   "cell_type": "code",
   "execution_count": 3,
   "metadata": {},
   "outputs": [],
   "source": [
    "#adding places in a file named places.csv\n",
    "\n",
    "df = pd.read_csv(\"places.txt\",encoding = \"ISO-8859-1\")"
   ]
  },
  {
   "cell_type": "code",
   "execution_count": 4,
   "metadata": {},
   "outputs": [
    {
     "data": {
      "text/html": [
       "<div>\n",
       "<style scoped>\n",
       "    .dataframe tbody tr th:only-of-type {\n",
       "        vertical-align: middle;\n",
       "    }\n",
       "\n",
       "    .dataframe tbody tr th {\n",
       "        vertical-align: top;\n",
       "    }\n",
       "\n",
       "    .dataframe thead th {\n",
       "        text-align: right;\n",
       "    }\n",
       "</style>\n",
       "<table border=\"1\" class=\"dataframe\">\n",
       "  <thead>\n",
       "    <tr style=\"text-align: right;\">\n",
       "      <th></th>\n",
       "      <th>Name</th>\n",
       "      <th>Latitude</th>\n",
       "      <th>Longitude</th>\n",
       "    </tr>\n",
       "  </thead>\n",
       "  <tbody>\n",
       "    <tr>\n",
       "      <td>0</td>\n",
       "      <td>Alta</td>\n",
       "      <td>69.96887</td>\n",
       "      <td>23.27165</td>\n",
       "    </tr>\n",
       "    <tr>\n",
       "      <td>1</td>\n",
       "      <td>Anchorage</td>\n",
       "      <td>61.21806</td>\n",
       "      <td>-149.90028</td>\n",
       "    </tr>\n",
       "    <tr>\n",
       "      <td>2</td>\n",
       "      <td>Jakarta</td>\n",
       "      <td>-6.21462</td>\n",
       "      <td>106.84513</td>\n",
       "    </tr>\n",
       "    <tr>\n",
       "      <td>3</td>\n",
       "      <td>London</td>\n",
       "      <td>51.50853</td>\n",
       "      <td>-0.12574</td>\n",
       "    </tr>\n",
       "    <tr>\n",
       "      <td>4</td>\n",
       "      <td>Longyearbyen</td>\n",
       "      <td>78.22334</td>\n",
       "      <td>15.64689</td>\n",
       "    </tr>\n",
       "    <tr>\n",
       "      <td>5</td>\n",
       "      <td>North pole</td>\n",
       "      <td>90.00000</td>\n",
       "      <td>0.00000</td>\n",
       "    </tr>\n",
       "    <tr>\n",
       "      <td>6</td>\n",
       "      <td>Oslo</td>\n",
       "      <td>59.91273</td>\n",
       "      <td>10.74609</td>\n",
       "    </tr>\n",
       "    <tr>\n",
       "      <td>7</td>\n",
       "      <td>South pole</td>\n",
       "      <td>-90.00000</td>\n",
       "      <td>0.00000</td>\n",
       "    </tr>\n",
       "    <tr>\n",
       "      <td>8</td>\n",
       "      <td>Troll research station</td>\n",
       "      <td>-72.00194</td>\n",
       "      <td>2.53389</td>\n",
       "    </tr>\n",
       "    <tr>\n",
       "      <td>9</td>\n",
       "      <td>Vardø</td>\n",
       "      <td>70.37048</td>\n",
       "      <td>31.11066</td>\n",
       "    </tr>\n",
       "  </tbody>\n",
       "</table>\n",
       "</div>"
      ],
      "text/plain": [
       "                     Name  Latitude  Longitude\n",
       "0                    Alta  69.96887   23.27165\n",
       "1               Anchorage  61.21806 -149.90028\n",
       "2                 Jakarta  -6.21462  106.84513\n",
       "3                  London  51.50853   -0.12574\n",
       "4            Longyearbyen  78.22334   15.64689\n",
       "5              North pole  90.00000    0.00000\n",
       "6                    Oslo  59.91273   10.74609\n",
       "7              South pole -90.00000    0.00000\n",
       "8  Troll research station -72.00194    2.53389\n",
       "9                   Vardø  70.37048   31.11066"
      ]
     },
     "execution_count": 4,
     "metadata": {},
     "output_type": "execute_result"
    }
   ],
   "source": [
    "df.head(10)"
   ]
  },
  {
   "cell_type": "code",
   "execution_count": 5,
   "metadata": {},
   "outputs": [],
   "source": [
    "n = None"
   ]
  },
  {
   "cell_type": "code",
   "execution_count": 6,
   "metadata": {},
   "outputs": [
    {
     "name": "stderr",
     "output_type": "stream",
     "text": [
      "usage: ipykernel_launcher.py [-h] user_input\n",
      "ipykernel_launcher.py: error: argument user_input: invalid int value: 'C:\\\\Users\\\\Parthasarthi\\\\AppData\\\\Roaming\\\\jupyter\\\\runtime\\\\kernel-f80d495f-aa19-4974-8f43-c1ea8844fa58.json'\n"
     ]
    }
   ],
   "source": [
    "#Write a command line program that takes one optional integer argument n\n",
    "\n",
    "parser = argparse.ArgumentParser()\n",
    "\n",
    "parser.add_argument('user_input', type = int)\n",
    "\n",
    "try:\n",
    "    args = parser.parse_args()\n",
    "\n",
    "    n = args.user_input\n",
    "\n",
    "except:\n",
    "    n = None"
   ]
  },
  {
   "cell_type": "code",
   "execution_count": 7,
   "metadata": {},
   "outputs": [],
   "source": [
    "# If no argument is given, use places.csv as input\n",
    "\n",
    "def get_place_combinations(places):\n",
    "    temp = []\n",
    "    for p in combinations(places, 2):\n",
    "        temp.append(list(p))        \n",
    "    return temp"
   ]
  },
  {
   "cell_type": "code",
   "execution_count": 8,
   "metadata": {},
   "outputs": [],
   "source": [
    "##If n is given, use n randomly generated places as input\n",
    "\n",
    "if n == None:\n",
    "    places_pairs = get_place_combinations(list(df['Name']))\n",
    "else:\n",
    "    places_pairs = get_place_combinations(list(df['Name'].sample(n)))"
   ]
  },
  {
   "cell_type": "code",
   "execution_count": 9,
   "metadata": {},
   "outputs": [],
   "source": [
    "## Find the air distance (great circle distance) between all pairs of places. Discard pairs\n",
    "## having the same pair of places as another pair\n",
    "\n",
    "\n",
    "def get_pairs_distance(pair):\n",
    "    lon1 = df[df['Name']== pair[0]]['Longitude']\n",
    "    lat1 = df[df['Name']== pair[0]]['Latitude']\n",
    "    lon2 = df[df['Name']== pair[1]]['Longitude']\n",
    "    lat2 = df[df['Name']== pair[1]]['Latitude']\n",
    "\n",
    "    # great circle distance\n",
    "    lon1, lat1, lon2, lat2 = map(radians, [lon1, lat1, lon2, lat2])   \n",
    "    return 6371*(acos(sin(lat1)*sin(lat2)+cos(lat1)*cos(lat2) * cos(lon1 - lon2)))"
   ]
  },
  {
   "cell_type": "code",
   "execution_count": 10,
   "metadata": {},
   "outputs": [],
   "source": [
    "## Write out all place pairs and distances by ascending distance, lines column aligned\n",
    "\n",
    "places_pairs_distance = [[p[0],p[1],get_pairs_distance(p)] for p in places_pairs]"
   ]
  },
  {
   "cell_type": "code",
   "execution_count": 11,
   "metadata": {},
   "outputs": [],
   "source": [
    "output = pd.DataFrame(places_pairs_distance, columns = [\"place_1\", \"place_2\", \"distance\"])"
   ]
  },
  {
   "cell_type": "code",
   "execution_count": 12,
   "metadata": {},
   "outputs": [],
   "source": [
    "output = output.sort_values(by = 'distance')\n",
    "output = output.reset_index(drop=True)"
   ]
  },
  {
   "cell_type": "code",
   "execution_count": 13,
   "metadata": {},
   "outputs": [
    {
     "name": "stdout",
     "output_type": "stream",
     "text": [
      "                   place_1                 place_2      distance\n",
      "0                     Alta                   Vardø    298.834588\n",
      "1                     Alta            Longyearbyen    944.889352\n",
      "2             Longyearbyen                   Vardø    982.182938\n",
      "3                   London                    Oslo   1153.250617\n",
      "4                     Alta                    Oslo   1258.598030\n",
      "5             Longyearbyen              North pole   1309.504845\n",
      "6                     Oslo                   Vardø   1487.618782\n",
      "7               South pole  Troll research station   2001.292961\n",
      "8             Longyearbyen                    Oslo   2043.618944\n",
      "9               North pole                   Vardø   2182.703036\n",
      "10                    Alta              North pole   2227.360031\n",
      "11                    Alta                  London   2380.318992\n",
      "12                  London                   Vardø   2630.124852\n",
      "13                  London            Longyearbyen   3037.634302\n",
      "14               Anchorage              North pole   3200.405707\n",
      "15              North pole                    Oslo   3345.551781\n",
      "16                  London              North pole   4280.056183\n",
      "17               Anchorage            Longyearbyen   4479.354056\n",
      "18               Anchorage                   Vardø   5382.894281\n",
      "19                    Alta               Anchorage   5417.856476\n",
      "20               Anchorage                    Oslo   6443.941327\n",
      "21               Anchorage                  London   7196.311957\n",
      "22                 Jakarta              South pole   9316.509183\n",
      "23                 Jakarta  Troll research station   9835.333104\n",
      "24                 Jakarta                   Vardø  10132.856897\n",
      "25                    Alta                 Jakarta  10412.953076\n",
      "26                 Jakarta              North pole  10698.577613\n",
      "27                 Jakarta            Longyearbyen  10711.167389\n",
      "28                 Jakarta                    Oslo  10945.026837\n",
      "29               Anchorage                 Jakarta  11320.469203\n",
      "30                 Jakarta                  London  11718.458332\n",
      "31                  London  Troll research station  13735.320662\n",
      "32                    Oslo  Troll research station  14681.854014\n",
      "33                  London              South pole  15735.030613\n",
      "34                    Alta  Troll research station  15857.859463\n",
      "35  Troll research station                   Vardø  15964.878257\n",
      "36                    Oslo              South pole  16669.535015\n",
      "37            Longyearbyen  Troll research station  16725.447181\n",
      "38               Anchorage              South pole  16814.681089\n",
      "39                    Alta              South pole  17787.726765\n",
      "40              South pole                   Vardø  17832.383760\n",
      "41              North pole  Troll research station  18013.793835\n",
      "42               Anchorage  Troll research station  18335.529375\n",
      "43            Longyearbyen              South pole  18705.581951\n",
      "44              North pole              South pole  20015.086796\n",
      "\n",
      "\n"
     ]
    }
   ],
   "source": [
    "print(output)\n",
    "print('\\n')"
   ]
  },
  {
   "cell_type": "code",
   "execution_count": 14,
   "metadata": {},
   "outputs": [
    {
     "name": "stdout",
     "output_type": "stream",
     "text": [
      "Average distance: 8792.2 km. Closest pair: Jakarta-South pole 9316.5 km.\n"
     ]
    }
   ],
   "source": [
    "## write out the average distance and the place pair and corresponding\n",
    "## distance having the distance closest to the average value\n",
    "\n",
    "\n",
    "mean_dist = output['distance'].mean()\n",
    "\n",
    "min_dist_pair = []\n",
    "diff = float('inf')\n",
    "\n",
    "for p1,p2,d in zip(output['place_1'],output['place_2'],output['distance']):\n",
    "    if abs(mean_dist - d) < diff:\n",
    "        diff = abs(mean_dist - d)\n",
    "        min_dist_pair = [p1,p2,d]\n",
    "\n",
    "print(f\"Average distance: {round(mean_dist,1)} km. Closest pair: {min_dist_pair[0]}-{min_dist_pair[1]} {round(min_dist_pair[2],1)} km.\")"
   ]
  },
  {
   "cell_type": "code",
   "execution_count": null,
   "metadata": {},
   "outputs": [],
   "source": []
  }
 ],
 "metadata": {
  "kernelspec": {
   "display_name": "Python 3",
   "language": "python",
   "name": "python3"
  },
  "language_info": {
   "codemirror_mode": {
    "name": "ipython",
    "version": 3
   },
   "file_extension": ".py",
   "mimetype": "text/x-python",
   "name": "python",
   "nbconvert_exporter": "python",
   "pygments_lexer": "ipython3",
   "version": "3.7.4"
  }
 },
 "nbformat": 4,
 "nbformat_minor": 2
}
